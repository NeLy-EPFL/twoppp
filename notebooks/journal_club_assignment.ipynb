{
 "cells": [
  {
   "cell_type": "code",
   "execution_count": 1,
   "id": "f3165cc7",
   "metadata": {},
   "outputs": [],
   "source": [
    "import numpy as np"
   ]
  },
  {
   "cell_type": "code",
   "execution_count": 2,
   "id": "5df359c4",
   "metadata": {},
   "outputs": [],
   "source": [
    "def get_co_presenter(N_presenters):\n",
    "    \n",
    "    co_presenters = []\n",
    "    while len(co_presenters) < N_presenters:\n",
    "        possible_presenters = list(range(N_presenters))\n",
    "        co_presenters = []\n",
    "        for presenter in np.arange(N_presenters):\n",
    "            co_presenter = presenter\n",
    "            N_samples = 0\n",
    "            while co_presenter == presenter:\n",
    "                if N_samples >= N_presenters:\n",
    "                    break\n",
    "                N_samples += 1\n",
    "                i_co = np.random.randint(0, len(possible_presenters))\n",
    "                co_presenter = possible_presenters[i_co]\n",
    "            if N_samples >= N_presenters:\n",
    "                    break\n",
    "            co_presenters.append(co_presenter)\n",
    "            possible_presenters.remove(co_presenter)\n",
    "    return co_presenters\n",
    "        \n",
    "        "
   ]
  },
  {
   "cell_type": "markdown",
   "id": "298644d3",
   "metadata": {},
   "source": [
    "## Spring semester 2021"
   ]
  },
  {
   "cell_type": "code",
   "execution_count": 110,
   "id": "d9f6e550",
   "metadata": {},
   "outputs": [],
   "source": [
    "names = [\"Daniel  \", \"Gizem   \", \"Jonas   \", \"Chin-Lin\", \"Semih   \", \"Laura   \", \"Adam    \", \"Victor  \", \"Florian \"]\n",
    "N_names = len(names)"
   ]
  },
  {
   "cell_type": "code",
   "execution_count": 111,
   "id": "973a612a",
   "metadata": {},
   "outputs": [
    {
     "name": "stdout",
     "output_type": "stream",
     "text": [
      "Presenter:     ['Daniel  ', 'Gizem   ', 'Jonas   ', 'Chin-Lin', 'Semih   ', 'Laura   ', 'Adam    ', 'Victor  ', 'Florian ']\n",
      "Co-presenter:  ['Semih   ', 'Adam    ', 'Florian ', 'Daniel  ', 'Gizem   ', 'Victor  ', 'Jonas   ', 'Chin-Lin', 'Laura   ']\n"
     ]
    }
   ],
   "source": [
    "co_presenters = get_co_presenter(N_names)\n",
    "print(\"Presenter:    \", names)\n",
    "print(\"Co-presenter: \", [names[i_co] for i_co in co_presenters])"
   ]
  },
  {
   "cell_type": "markdown",
   "id": "32b3d152",
   "metadata": {},
   "source": [
    "## Fall semester 2021"
   ]
  },
  {
   "cell_type": "code",
   "execution_count": 3,
   "id": "69658b4f",
   "metadata": {},
   "outputs": [],
   "source": [
    "names =  [\"Florian\", \"Victor\", \"Jonas\", \"Gizem\", \"Sibo\", \"Femke\", \"Adam\", \"Matthias\", \"Chin-Lin\", \"Semih\"]\n",
    "N_names = len(names)"
   ]
  },
  {
   "cell_type": "code",
   "execution_count": 15,
   "id": "0975fc21",
   "metadata": {},
   "outputs": [
    {
     "name": "stdout",
     "output_type": "stream",
     "text": [
      "Presenter:     ['Florian', 'Victor', 'Jonas', 'Gizem', 'Sibo', 'Femke', 'Adam', 'Matthias', 'Chin-Lin', 'Semih']\n",
      "Co-presenter:  ['Chin-Lin', 'Gizem', 'Sibo', 'Adam', 'Victor', 'Semih', 'Florian', 'Jonas', 'Matthias', 'Femke']\n"
     ]
    }
   ],
   "source": [
    "co_presenters = get_co_presenter(N_names)\n",
    "print(\"Presenter:    \", names)\n",
    "print(\"Co-presenter: \", [names[i_co] for i_co in co_presenters])"
   ]
  },
  {
   "cell_type": "code",
   "execution_count": 119,
   "id": "647f035f",
   "metadata": {},
   "outputs": [
    {
     "name": "stdout",
     "output_type": "stream",
     "text": [
      "Presenter:     ['Florian', 'Victor', 'Jonas', 'Gizem', 'Sibo', 'Femke', 'Adam', 'Matthias', 'Chin-Lin', 'Semih']\n",
      "Co-presenter:  ['Sibo', 'Matthias', 'Semih', 'Adam', 'Florian', 'Victor', 'Femke', 'Gizem', 'Jonas', 'Chin-Lin']\n"
     ]
    }
   ],
   "source": [
    "co_presenters = get_co_presenter(N_names)\n",
    "print(\"Presenter:    \", names)\n",
    "print(\"Co-presenter: \", [names[i_co] for i_co in co_presenters])"
   ]
  },
  {
   "cell_type": "code",
   "execution_count": null,
   "id": "5b924ae1",
   "metadata": {},
   "outputs": [],
   "source": []
  }
 ],
 "metadata": {
  "kernelspec": {
   "display_name": "Python 3",
   "language": "python",
   "name": "python3"
  },
  "language_info": {
   "codemirror_mode": {
    "name": "ipython",
    "version": 3
   },
   "file_extension": ".py",
   "mimetype": "text/x-python",
   "name": "python",
   "nbconvert_exporter": "python",
   "pygments_lexer": "ipython3",
   "version": "3.7.10"
  }
 },
 "nbformat": 4,
 "nbformat_minor": 5
}
